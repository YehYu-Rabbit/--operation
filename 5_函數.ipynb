{
  "nbformat": 4,
  "nbformat_minor": 0,
  "metadata": {
    "colab": {
      "name": "5_函數.ipynb",
      "provenance": [],
      "authorship_tag": "ABX9TyOyRAN/lEi28xQcW617eC2n",
      "include_colab_link": true
    },
    "kernelspec": {
      "name": "python3",
      "display_name": "Python 3"
    }
  },
  "cells": [
    {
      "cell_type": "markdown",
      "metadata": {
        "id": "view-in-github",
        "colab_type": "text"
      },
      "source": [
        "<a href=\"https://colab.research.google.com/github/YehYu-Rabbit/--operation/blob/master/5_%E5%87%BD%E6%95%B8.ipynb\" target=\"_parent\"><img src=\"https://colab.research.google.com/assets/colab-badge.svg\" alt=\"Open In Colab\"/></a>"
      ]
    },
    {
      "cell_type": "code",
      "metadata": {
        "id": "0QFJREyCiF-A",
        "outputId": "044f00d8-ace1-4db6-d086-c9f09eeef56a",
        "colab": {
          "base_uri": "https://localhost:8080/",
          "height": 68
        }
      },
      "source": [
        "def sum(i1, i2):\n",
        "    result = 0\n",
        "    for i in range(i1, i2):\n",
        "        result += i\n",
        "    return result\n",
        "\n",
        "def main():\n",
        "    print(\"Sum from 1 to 10 is\", sum(1, 11)) \n",
        "    print(\"Sum from 20 to 37 is\", sum(20, 38))\n",
        "    print(\"Sum from 35 to 49 is\", sum(35, 50))\n",
        "\n",
        "main() # Call the main function"
      ],
      "execution_count": null,
      "outputs": [
        {
          "output_type": "stream",
          "text": [
            "Sum from 1 to 10 is 55\n",
            "Sum from 20 to 37 is 513\n",
            "Sum from 35 to 49 is 630\n"
          ],
          "name": "stdout"
        }
      ]
    },
    {
      "cell_type": "code",
      "metadata": {
        "id": "0EpBVWHHiL9t",
        "outputId": "a6755b33-bf8a-4116-ff43-f5beef05652b",
        "colab": {
          "base_uri": "https://localhost:8080/",
          "height": 51
        }
      },
      "source": [
        "#!/usr/bin/python\n",
        "# -*- coding: UTF-8 -*-\n",
        " \n",
        "def swap(a,b):\n",
        "    a,b = b,a\n",
        "    return (a,b)\n",
        " \n",
        "if __name__ == '__main__':\n",
        "    x = 10\n",
        "    y = 20\n",
        "    print('x = %d,y = %d' % (x,y))\n",
        "    x,y = swap(x,y)\n",
        "    print('x = %d,y = %d' % (x,y))\n"
      ],
      "execution_count": null,
      "outputs": [
        {
          "output_type": "stream",
          "text": [
            "x = 10,y = 20\n",
            "x = 20,y = 10\n"
          ],
          "name": "stdout"
        }
      ]
    },
    {
      "cell_type": "code",
      "metadata": {
        "id": "iSwLp3vbiSqU",
        "outputId": "ca419f7c-0646-4443-9df7-cb184729c36b",
        "colab": {
          "base_uri": "https://localhost:8080/",
          "height": 102
        }
      },
      "source": [
        "\"\"\"## Python Docstring\n",
        "\n",
        "\n",
        "https://stackoverflow.com/questions/3898572/what-is-the-standard-python-docstring-format\n",
        "\n",
        "\n",
        "Google Style Python Docstrings\n",
        "\n",
        "https://www.sphinx-doc.org/en/master/usage/extensions/example_google.html#example-google\n",
        "\n",
        "\n",
        "'''\n",
        "This is an example of Google style.\n",
        "\n",
        "Args:\n",
        "    param1: This is the first param.\n",
        "    param2: This is a second param.\n",
        "\n",
        "Returns:\n",
        "    This is a description of what is returned.\n",
        "\n",
        "Raises:\n",
        "    KeyError: Raises an exception.\n",
        "'''\n",
        "\"\"\"\n",
        "\n",
        "def demo():\n",
        "    \"\"\"函數的文件字串\"\"\"\n",
        "    pass\n",
        "    \n",
        "print(demo.__doc__)\n",
        "\n",
        "def swap(a,b):\n",
        "    \"\"\"\n",
        "    swap(a,b)功能是.................\n",
        "    \"\"\" \n",
        "    a,b = b,a\n",
        "    return (a,b)\n",
        "\n",
        "print(swap(3,5))\n",
        "print(swap.__doc__)"
      ],
      "execution_count": null,
      "outputs": [
        {
          "output_type": "stream",
          "text": [
            "函數的文件字串\n",
            "(5, 3)\n",
            "\n",
            "    swap(a,b)功能是.................\n",
            "    \n"
          ],
          "name": "stdout"
        }
      ]
    },
    {
      "cell_type": "code",
      "metadata": {
        "id": "sUUhT3vAiY49",
        "outputId": "2f679074-1563-4cde-a827-1ed8247f13a8",
        "colab": {
          "base_uri": "https://localhost:8080/",
          "height": 52
        }
      },
      "source": [
        "## Python的函數可以回傳多個值(超棒der)\n",
        "\"\"\"\n",
        "\n",
        "#!/usr/bin/python \n",
        "# -*- coding: UTF-8 -*- \n",
        "\n",
        "def sort(number1, number2):\n",
        "    if number1 < number2:\n",
        "        return number1, number2\n",
        "    else:\n",
        "        return number2, number1\n",
        "\n",
        "num1, num2 = sort(31, 25)\n",
        "\n",
        "print(\"num1 is\", num1)\n",
        "print(\"num2 is\", num2)\n",
        "\n",
        "\"\"\"### [作業]:def sort(number1, number2, number3):"
      ],
      "execution_count": null,
      "outputs": [
        {
          "output_type": "execute_result",
          "data": {
            "application/vnd.google.colaboratory.intrinsic+json": {
              "type": "string"
            },
            "text/plain": [
              "'\\n\\n#!/usr/bin/python \\n# -*- coding: UTF-8 -*- \\n\\ndef sort(number1, number2):\\n    if number1 < number2:\\n        return number1, number2\\n    else:\\n        return number2, number1\\n\\nnum1, num2 = sort(31, 25)\\n\\nprint(\"num1 is\", num1)\\nprint(\"num2 is\", num2)\\n\\n'"
            ]
          },
          "metadata": {
            "tags": []
          },
          "execution_count": 4
        }
      ]
    },
    {
      "cell_type": "code",
      "metadata": {
        "id": "5_BBAsHyibom",
        "outputId": "8280b5af-d7df-45a0-deda-2b5879ede0ed",
        "colab": {
          "base_uri": "https://localhost:8080/",
          "height": 102
        }
      },
      "source": [
        "#!/usr/bin/python \n",
        "# -*- coding: UTF-8 -*- \n",
        "\n",
        "def printArea(width = 11, height = 12):\n",
        "    area = width * height\n",
        "    print(\"width:\", width, \"\\theight:\", height, \"\\tarea:\", area)\n",
        "\n",
        "printArea() \n",
        "printArea(4, 2.5) # Positional arguments width = 4 and height = 2.5\n",
        "printArea(height = 5, width = 3) # Keyword arguments width \n",
        "printArea(width = 1.2) # Default height = 2\n",
        "printArea(height = 6.2) # Default widht = 1"
      ],
      "execution_count": null,
      "outputs": [
        {
          "output_type": "stream",
          "text": [
            "width: 11 \theight: 12 \tarea: 132\n",
            "width: 4 \theight: 2.5 \tarea: 10.0\n",
            "width: 3 \theight: 5 \tarea: 15\n",
            "width: 1.2 \theight: 12 \tarea: 14.399999999999999\n",
            "width: 11 \theight: 6.2 \tarea: 68.2\n"
          ],
          "name": "stdout"
        }
      ]
    },
    {
      "cell_type": "code",
      "metadata": {
        "id": "T3N7FUpXidzO",
        "outputId": "644f4b0d-b30c-452b-bfc5-315c60840467",
        "colab": {
          "base_uri": "https://localhost:8080/",
          "height": 85
        }
      },
      "source": [
        "#!/usr/bin/python \n",
        "# -*- coding: UTF-8 -*- \n",
        "\n",
        "def hello_3(greeting='Hello', name='world'): \n",
        "    print('{}, {}!'.format(greeting, name)) \n",
        "\n",
        "    \n",
        "hello_3() \n",
        "hello_3('Greetings') \n",
        "hello_3('Greetings', 'universe')\n",
        "hello_3(name='GGGGGGoood')"
      ],
      "execution_count": null,
      "outputs": [
        {
          "output_type": "stream",
          "text": [
            "Hello, world!\n",
            "Greetings, world!\n",
            "Greetings, universe!\n",
            "Hello, GGGGGGoood!\n"
          ],
          "name": "stdout"
        }
      ]
    },
    {
      "cell_type": "code",
      "metadata": {
        "id": "tf5W-qmNigAm",
        "outputId": "1139abbb-22b7-4d08-e208-a121912d8862",
        "colab": {
          "base_uri": "https://localhost:8080/",
          "height": 34
        }
      },
      "source": [
        "params = {'name': 'Sir Simon Rattle', 'greeting': 'To my Great Conductor'}\n",
        "hello_3(**params)"
      ],
      "execution_count": null,
      "outputs": [
        {
          "output_type": "stream",
          "text": [
            "To my Great Conductor, Sir Simon Rattle!\n"
          ],
          "name": "stdout"
        }
      ]
    },
    {
      "cell_type": "code",
      "metadata": {
        "id": "JJ4HnsPYiiNe",
        "outputId": "1e026bd4-e3b0-4bef-d1e7-f88081f8c2da",
        "colab": {
          "base_uri": "https://localhost:8080/",
          "height": 119
        }
      },
      "source": [
        "def print_params(*params): \n",
        "    print(params) \n",
        "\n",
        "print_params('Testing') \n",
        "\n",
        "print_params(1, 2, 3) \n",
        "\n",
        "# return的是tuple資料型態\n",
        "\n",
        "#可和一般參數齊用\n",
        "\n",
        "def print_params_2(title, *params): \n",
        "    print(title) \n",
        "    print(params)\n",
        "\n",
        "print_params_2('Params:', 1, 2, 3)\n",
        "print_params_2('Nothing:')"
      ],
      "execution_count": null,
      "outputs": [
        {
          "output_type": "stream",
          "text": [
            "('Testing',)\n",
            "(1, 2, 3)\n",
            "Params:\n",
            "(1, 2, 3)\n",
            "Nothing:\n",
            "()\n"
          ],
          "name": "stdout"
        }
      ]
    },
    {
      "cell_type": "code",
      "metadata": {
        "id": "Hs2ti7_KiwmJ",
        "outputId": "c5f96179-9f80-4de9-b3d6-dc84b6a5ba28",
        "colab": {
          "base_uri": "https://localhost:8080/",
          "height": 136
        }
      },
      "source": [
        "def print_params_3(**params): \n",
        "    print(params) \n",
        "\n",
        "print_params_3(x=1, y=2, z=3) \n",
        "\n",
        "# return的是dict(字典資料型態)\n",
        "\n",
        "def print_params_4(x, y, z=3, *pospar, **keypar): \n",
        "    print(x, y, z) \n",
        "    print(pospar) \n",
        "    print(keypar) \n",
        "\n",
        "print_params_4(1, 2, 4, 5, 6, 7, foo=1, bar=2)\n",
        "\n",
        "print_params_4(1, 2)\n"
      ],
      "execution_count": null,
      "outputs": [
        {
          "output_type": "stream",
          "text": [
            "{'x': 1, 'y': 2, 'z': 3}\n",
            "1 2 4\n",
            "(5, 6, 7)\n",
            "{'foo': 1, 'bar': 2}\n",
            "1 2 3\n",
            "()\n",
            "{}\n"
          ],
          "name": "stdout"
        }
      ]
    },
    {
      "cell_type": "code",
      "metadata": {
        "id": "RTQsrXMoi5ia",
        "outputId": "7776939a-cb2b-410a-bca8-2699f0afeafe",
        "colab": {
          "base_uri": "https://localhost:8080/",
          "height": 136
        }
      },
      "source": [
        "\n",
        "\n",
        "x = 111\n",
        "\n",
        "def f1():\n",
        "    x = 222\n",
        "    print(x) \n",
        "\n",
        "f1()\n",
        "print(x)\n",
        "\n",
        "x = 1\n",
        "\n",
        "def increase():\n",
        "    global x\n",
        "    x =  x + 1\n",
        "    print(x) \n",
        "\n",
        "increase()\n",
        "print(x)\n",
        "increase()\n",
        "increase()\n",
        "print(x)"
      ],
      "execution_count": null,
      "outputs": [
        {
          "output_type": "stream",
          "text": [
            "222\n",
            "111\n",
            "2\n",
            "2\n",
            "3\n",
            "4\n",
            "4\n"
          ],
          "name": "stdout"
        }
      ]
    },
    {
      "cell_type": "code",
      "metadata": {
        "id": "lnRTOCgJi-fU",
        "outputId": "6eb529e0-ffd5-4a59-c22f-62322625ee53",
        "colab": {
          "base_uri": "https://localhost:8080/",
          "height": 34
        }
      },
      "source": [
        "f1 = lambda x, y, z: x+2*y+3*z\n",
        "print(f1(2,3,1))"
      ],
      "execution_count": null,
      "outputs": [
        {
          "output_type": "stream",
          "text": [
            "11\n"
          ],
          "name": "stdout"
        }
      ]
    },
    {
      "cell_type": "code",
      "metadata": {
        "id": "EokPWkifjBMU"
      },
      "source": [
        "def myfunc(m):\n",
        "    return m*m\n",
        "\n",
        "my_list = [1, 3, 5, 7, 9]"
      ],
      "execution_count": null,
      "outputs": []
    },
    {
      "cell_type": "code",
      "metadata": {
        "id": "efF1_KBmjEPO",
        "outputId": "5fe69dc5-3ce7-48c5-c683-ed9fdb0450fc",
        "colab": {
          "base_uri": "https://localhost:8080/",
          "height": 34
        }
      },
      "source": [
        "map(lambda x:myfunc(x), my_list)"
      ],
      "execution_count": null,
      "outputs": [
        {
          "output_type": "execute_result",
          "data": {
            "text/plain": [
              "<map at 0x7f94ac35e7f0>"
            ]
          },
          "metadata": {
            "tags": []
          },
          "execution_count": 15
        }
      ]
    },
    {
      "cell_type": "code",
      "metadata": {
        "id": "FJCSaQj6jHT1",
        "outputId": "cd73b4cc-5ee2-4ca9-9075-7e6fc9590ed4",
        "colab": {
          "base_uri": "https://localhost:8080/",
          "height": 34
        }
      },
      "source": [
        "#!/usr/bin/python\n",
        "# -*- coding: UTF-8 -*-\n",
        "\n",
        "def fib(n):\n",
        "    if n==1 or n==2:\n",
        "        return 1\n",
        "    return fib(n-1)+fib(n-2)\n",
        "\n",
        "print(fib(10))"
      ],
      "execution_count": null,
      "outputs": [
        {
          "output_type": "stream",
          "text": [
            "55\n"
          ],
          "name": "stdout"
        }
      ]
    },
    {
      "cell_type": "code",
      "metadata": {
        "id": "jGY27N-KjJ01",
        "outputId": "a4412198-9a4a-496b-afdc-d419108777d5",
        "colab": {
          "base_uri": "https://localhost:8080/",
          "height": 34
        }
      },
      "source": [
        "#!/usr/bin/python\n",
        "# -*- coding: UTF-8 -*-\n",
        " \n",
        "def fib(n):\n",
        "    a,b = 1,1\n",
        "    for i in range(n-1):\n",
        "        a,b = b,a+b\n",
        "    return a\n",
        " \n",
        "\n",
        "print(fib(10))"
      ],
      "execution_count": null,
      "outputs": [
        {
          "output_type": "stream",
          "text": [
            "55\n"
          ],
          "name": "stdout"
        }
      ]
    },
    {
      "cell_type": "code",
      "metadata": {
        "id": "BfjQNXn3jM81",
        "outputId": "a929b69d-cf3a-4404-8b61-30019a246183",
        "colab": {
          "base_uri": "https://localhost:8080/",
          "height": 187
        }
      },
      "source": [
        "#!/usr/bin/python\n",
        "# -*- coding: UTF-8 -*-\n",
        "\n",
        "def fib(x):\t\n",
        "\tglobal numFibCalls\n",
        "\tnumFibCalls += 1\n",
        "\t\n",
        "\tif x == 0 or x == 1:\n",
        "           return 1\n",
        "\telse:\n",
        "          return fib(x-1) + fib(x-2)\n",
        "\n",
        "def testFib(n):\n",
        "\tfor i in range(n+1):\n",
        "          global numFibCalls\n",
        "          numFibCalls = 0\n",
        "          print('fib of', i, '=', fib(i))\n",
        "          print('fib called', numFibCalls, 'times.')\n",
        "\n",
        "testFib(4)\n"
      ],
      "execution_count": null,
      "outputs": [
        {
          "output_type": "stream",
          "text": [
            "fib of 0 = 1\n",
            "fib called 1 times.\n",
            "fib of 1 = 1\n",
            "fib called 1 times.\n",
            "fib of 2 = 2\n",
            "fib called 3 times.\n",
            "fib of 3 = 3\n",
            "fib called 5 times.\n",
            "fib of 4 = 5\n",
            "fib called 9 times.\n"
          ],
          "name": "stdout"
        }
      ]
    },
    {
      "cell_type": "code",
      "metadata": {
        "id": "-A83rZh6jQbG",
        "outputId": "25503cd3-9c4c-4917-c167-f760bf610e2b",
        "colab": {
          "base_uri": "https://localhost:8080/",
          "height": 35
        }
      },
      "source": [
        "hex(255)\n",
        "\n",
        "hex(-42)\n",
        "\n",
        "\"\"\"### oct(x):Convert an integer number to an octal string prefixed with “0o”\"\"\"\n",
        "\n",
        "oct(8)\n",
        "\n",
        "oct(-56)\n",
        "\n",
        "\"\"\"### bin(x):Convert an integer number to a binary string prefixed with “0b”\"\"\"\n",
        "\n",
        "bin(3)\n",
        "\n",
        "bin(-10)"
      ],
      "execution_count": null,
      "outputs": [
        {
          "output_type": "execute_result",
          "data": {
            "application/vnd.google.colaboratory.intrinsic+json": {
              "type": "string"
            },
            "text/plain": [
              "'-0b1010'"
            ]
          },
          "metadata": {
            "tags": []
          },
          "execution_count": 19
        }
      ]
    }
  ]
}